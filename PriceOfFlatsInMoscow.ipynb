{
  "nbformat": 4,
  "nbformat_minor": 0,
  "metadata": {
    "colab": {
      "name": "PriceOfFlatsInMoscow.ipynb",
      "provenance": [],
      "authorship_tag": "ABX9TyP1Mlt9GRlR/72OBiMiQPly",
      "include_colab_link": true
    },
    "kernelspec": {
      "name": "python3",
      "display_name": "Python 3"
    }
  },
  "cells": [
    {
      "cell_type": "markdown",
      "metadata": {
        "id": "view-in-github",
        "colab_type": "text"
      },
      "source": [
        "<a href=\"https://colab.research.google.com/github/EvaKolosova/MachineLearningCourse/blob/master/PriceOfFlatsInMoscow.ipynb\" target=\"_parent\"><img src=\"https://colab.research.google.com/assets/colab-badge.svg\" alt=\"Open In Colab\"/></a>"
      ]
    },
    {
      "cell_type": "code",
      "metadata": {
        "id": "fwkpeYwc1G9U",
        "colab_type": "code",
        "colab": {}
      },
      "source": [
        "import numpy as np              # Массивы (матрицы, векторы, линейная алгебра)\n",
        "import matplotlib.pyplot as plt # Научная графика\n",
        "import pandas as pd             # Таблицы и временные ряды (dataframe, series)\n",
        "import seaborn as sns           # Еще больше красивой графики для визуализации данных\n",
        "import sklearn                  # Алгоритмы машинного обучения"
      ],
      "execution_count": 2,
      "outputs": []
    },
    {
      "cell_type": "markdown",
      "metadata": {
        "id": "W3OgaD0l1G9j",
        "colab_type": "text"
      },
      "source": [
        "# Оценка стоимости квартиры в Москве\n",
        "\n",
        "Предположим, что вы хотите продать квартиру и желаете узнать, по какой цене следует продавать, чтобы не продешевить. Или же из этой статистики можно узнать, по каким примерно ценам сечас продаются квартиры в разных районах Москвы.\n",
        "Загрузим данные о ценах на квартиры (данные собраны ВШЭ для спецкурса более 2х лет назад):"
      ]
    },
    {
      "cell_type": "code",
      "metadata": {
        "id": "vsBq08261G9o",
        "colab_type": "code",
        "colab": {}
      },
      "source": [
        "url = \"https://raw.githubusercontent.com/EvaKolosova/MachineLearningCourse/master/flats_moscow.csv\"\n",
        "data_raw = pd.read_csv(url)"
      ],
      "execution_count": 7,
      "outputs": []
    },
    {
      "cell_type": "markdown",
      "metadata": {
        "id": "DaaWPqHh1G9_",
        "colab_type": "text"
      },
      "source": [
        "Таблица содержит данные о ценах для 2040 квартир в г.Москве. Для каждой квартиры указаны ее цена (в 1000$), цена и некоторые переменные, такие как общая и жилая площадь, размер кухни, расстояние до центра (в км) и до метро (в минутах), также указан тип здания (1 – кирпичный, монолит ж/б, 0 – другой), этаж (1 – этаж кроме первого и последнего, 0 – иначе.) и др.\n",
        "\n",
        "Известно, что в датасете представлены 11 признаков и данные можно разделить на 8 классов по территориальному различию. Также известно, что отсутствуют пропущенные значения, и классы несбалансированы.\n",
        "\n",
        "Вначале посмотрим на размеры таблицы - количество строк (каждая строка соответствует одной квартире) и количество столбцов (каждый столбец соответствует конкретному признаку):"
      ]
    },
    {
      "cell_type": "code",
      "metadata": {
        "id": "01otrsg_1G-B",
        "colab_type": "code",
        "colab": {
          "base_uri": "https://localhost:8080/",
          "height": 35
        },
        "outputId": "7125838e-9e4d-4c29-cea1-befa4ea4fae0"
      },
      "source": [
        "data_raw.shape"
      ],
      "execution_count": 8,
      "outputs": [
        {
          "output_type": "execute_result",
          "data": {
            "text/plain": [
              "(2040, 11)"
            ]
          },
          "metadata": {
            "tags": []
          },
          "execution_count": 8
        }
      ]
    },
    {
      "cell_type": "markdown",
      "metadata": {
        "id": "lZruY90L1G-P",
        "colab_type": "text"
      },
      "source": [
        "Отсюда видно, что в дтасете есть 11 признаков.\n",
        "Метод `data_raw.head()` отображает первые строки (по умолчанию, 5 строк) таблицы"
      ]
    },
    {
      "cell_type": "code",
      "metadata": {
        "id": "4-Hnv2TK1G-R",
        "colab_type": "code",
        "colab": {
          "base_uri": "https://localhost:8080/",
          "height": 202
        },
        "outputId": "904fda5a-0765-45d9-ca7c-2ebe2b0ff8fd"
      },
      "source": [
        "data_raw.head()"
      ],
      "execution_count": 9,
      "outputs": [
        {
          "output_type": "execute_result",
          "data": {
            "text/html": [
              "<div>\n",
              "<style scoped>\n",
              "    .dataframe tbody tr th:only-of-type {\n",
              "        vertical-align: middle;\n",
              "    }\n",
              "\n",
              "    .dataframe tbody tr th {\n",
              "        vertical-align: top;\n",
              "    }\n",
              "\n",
              "    .dataframe thead th {\n",
              "        text-align: right;\n",
              "    }\n",
              "</style>\n",
              "<table border=\"1\" class=\"dataframe\">\n",
              "  <thead>\n",
              "    <tr style=\"text-align: right;\">\n",
              "      <th></th>\n",
              "      <th>Unnamed: 0</th>\n",
              "      <th>price</th>\n",
              "      <th>totsp</th>\n",
              "      <th>livesp</th>\n",
              "      <th>kitsp</th>\n",
              "      <th>dist</th>\n",
              "      <th>metrdist</th>\n",
              "      <th>walk</th>\n",
              "      <th>brick</th>\n",
              "      <th>floor</th>\n",
              "      <th>code</th>\n",
              "    </tr>\n",
              "  </thead>\n",
              "  <tbody>\n",
              "    <tr>\n",
              "      <th>0</th>\n",
              "      <td>1</td>\n",
              "      <td>81</td>\n",
              "      <td>58</td>\n",
              "      <td>40</td>\n",
              "      <td>6.0</td>\n",
              "      <td>12.5</td>\n",
              "      <td>7</td>\n",
              "      <td>1</td>\n",
              "      <td>1</td>\n",
              "      <td>1</td>\n",
              "      <td>3</td>\n",
              "    </tr>\n",
              "    <tr>\n",
              "      <th>1</th>\n",
              "      <td>2</td>\n",
              "      <td>75</td>\n",
              "      <td>44</td>\n",
              "      <td>28</td>\n",
              "      <td>6.0</td>\n",
              "      <td>13.5</td>\n",
              "      <td>7</td>\n",
              "      <td>1</td>\n",
              "      <td>0</td>\n",
              "      <td>1</td>\n",
              "      <td>6</td>\n",
              "    </tr>\n",
              "    <tr>\n",
              "      <th>2</th>\n",
              "      <td>3</td>\n",
              "      <td>128</td>\n",
              "      <td>70</td>\n",
              "      <td>42</td>\n",
              "      <td>6.0</td>\n",
              "      <td>14.5</td>\n",
              "      <td>3</td>\n",
              "      <td>1</td>\n",
              "      <td>1</td>\n",
              "      <td>1</td>\n",
              "      <td>3</td>\n",
              "    </tr>\n",
              "    <tr>\n",
              "      <th>3</th>\n",
              "      <td>4</td>\n",
              "      <td>95</td>\n",
              "      <td>61</td>\n",
              "      <td>37</td>\n",
              "      <td>6.0</td>\n",
              "      <td>13.5</td>\n",
              "      <td>7</td>\n",
              "      <td>1</td>\n",
              "      <td>0</td>\n",
              "      <td>1</td>\n",
              "      <td>1</td>\n",
              "    </tr>\n",
              "    <tr>\n",
              "      <th>4</th>\n",
              "      <td>5</td>\n",
              "      <td>330</td>\n",
              "      <td>104</td>\n",
              "      <td>60</td>\n",
              "      <td>11.0</td>\n",
              "      <td>10.5</td>\n",
              "      <td>7</td>\n",
              "      <td>0</td>\n",
              "      <td>1</td>\n",
              "      <td>1</td>\n",
              "      <td>3</td>\n",
              "    </tr>\n",
              "  </tbody>\n",
              "</table>\n",
              "</div>"
            ],
            "text/plain": [
              "   Unnamed: 0  price  totsp  livesp  kitsp  ...  metrdist  walk  brick  floor  code\n",
              "0           1     81     58      40    6.0  ...         7     1      1      1     3\n",
              "1           2     75     44      28    6.0  ...         7     1      0      1     6\n",
              "2           3    128     70      42    6.0  ...         3     1      1      1     3\n",
              "3           4     95     61      37    6.0  ...         7     1      0      1     1\n",
              "4           5    330    104      60   11.0  ...         7     0      1      1     3\n",
              "\n",
              "[5 rows x 11 columns]"
            ]
          },
          "metadata": {
            "tags": []
          },
          "execution_count": 9
        }
      ]
    },
    {
      "cell_type": "markdown",
      "metadata": {
        "id": "PdKDyvde1G-g",
        "colab_type": "text"
      },
      "source": [
        "А вот последние строки:"
      ]
    },
    {
      "cell_type": "code",
      "metadata": {
        "id": "dEL84-_k1G-i",
        "colab_type": "code",
        "colab": {
          "base_uri": "https://localhost:8080/",
          "height": 202
        },
        "outputId": "bce2d0db-e865-4b40-c03e-b113616c2024"
      },
      "source": [
        "data_raw.tail()"
      ],
      "execution_count": 10,
      "outputs": [
        {
          "output_type": "execute_result",
          "data": {
            "text/html": [
              "<div>\n",
              "<style scoped>\n",
              "    .dataframe tbody tr th:only-of-type {\n",
              "        vertical-align: middle;\n",
              "    }\n",
              "\n",
              "    .dataframe tbody tr th {\n",
              "        vertical-align: top;\n",
              "    }\n",
              "\n",
              "    .dataframe thead th {\n",
              "        text-align: right;\n",
              "    }\n",
              "</style>\n",
              "<table border=\"1\" class=\"dataframe\">\n",
              "  <thead>\n",
              "    <tr style=\"text-align: right;\">\n",
              "      <th></th>\n",
              "      <th>Unnamed: 0</th>\n",
              "      <th>price</th>\n",
              "      <th>totsp</th>\n",
              "      <th>livesp</th>\n",
              "      <th>kitsp</th>\n",
              "      <th>dist</th>\n",
              "      <th>metrdist</th>\n",
              "      <th>walk</th>\n",
              "      <th>brick</th>\n",
              "      <th>floor</th>\n",
              "      <th>code</th>\n",
              "    </tr>\n",
              "  </thead>\n",
              "  <tbody>\n",
              "    <tr>\n",
              "      <th>2035</th>\n",
              "      <td>2036</td>\n",
              "      <td>110</td>\n",
              "      <td>77</td>\n",
              "      <td>45</td>\n",
              "      <td>10.0</td>\n",
              "      <td>12.0</td>\n",
              "      <td>5</td>\n",
              "      <td>0</td>\n",
              "      <td>0</td>\n",
              "      <td>1</td>\n",
              "      <td>5</td>\n",
              "    </tr>\n",
              "    <tr>\n",
              "      <th>2036</th>\n",
              "      <td>2037</td>\n",
              "      <td>95</td>\n",
              "      <td>60</td>\n",
              "      <td>43</td>\n",
              "      <td>6.0</td>\n",
              "      <td>9.0</td>\n",
              "      <td>5</td>\n",
              "      <td>0</td>\n",
              "      <td>0</td>\n",
              "      <td>1</td>\n",
              "      <td>4</td>\n",
              "    </tr>\n",
              "    <tr>\n",
              "      <th>2037</th>\n",
              "      <td>2038</td>\n",
              "      <td>95</td>\n",
              "      <td>60</td>\n",
              "      <td>46</td>\n",
              "      <td>5.0</td>\n",
              "      <td>10.5</td>\n",
              "      <td>5</td>\n",
              "      <td>1</td>\n",
              "      <td>0</td>\n",
              "      <td>1</td>\n",
              "      <td>7</td>\n",
              "    </tr>\n",
              "    <tr>\n",
              "      <th>2038</th>\n",
              "      <td>2039</td>\n",
              "      <td>129</td>\n",
              "      <td>76</td>\n",
              "      <td>48</td>\n",
              "      <td>10.0</td>\n",
              "      <td>12.5</td>\n",
              "      <td>5</td>\n",
              "      <td>0</td>\n",
              "      <td>0</td>\n",
              "      <td>1</td>\n",
              "      <td>3</td>\n",
              "    </tr>\n",
              "    <tr>\n",
              "      <th>2039</th>\n",
              "      <td>2040</td>\n",
              "      <td>103</td>\n",
              "      <td>64</td>\n",
              "      <td>45</td>\n",
              "      <td>7.0</td>\n",
              "      <td>15.5</td>\n",
              "      <td>5</td>\n",
              "      <td>1</td>\n",
              "      <td>0</td>\n",
              "      <td>1</td>\n",
              "      <td>1</td>\n",
              "    </tr>\n",
              "  </tbody>\n",
              "</table>\n",
              "</div>"
            ],
            "text/plain": [
              "      Unnamed: 0  price  totsp  livesp  ...  walk  brick  floor  code\n",
              "2035        2036    110     77      45  ...     0      0      1     5\n",
              "2036        2037     95     60      43  ...     0      0      1     4\n",
              "2037        2038     95     60      46  ...     1      0      1     7\n",
              "2038        2039    129     76      48  ...     0      0      1     3\n",
              "2039        2040    103     64      45  ...     1      0      1     1\n",
              "\n",
              "[5 rows x 11 columns]"
            ]
          },
          "metadata": {
            "tags": []
          },
          "execution_count": 10
        }
      ]
    },
    {
      "cell_type": "markdown",
      "metadata": {
        "id": "cIanJMv21G-8",
        "colab_type": "text"
      },
      "source": [
        "Мы видим, что столбцы (признаки) имеют следующие имена:\n",
        "\n",
        "- `price` - цена (в тыс. долларов.)\n",
        "- `totalsp` - общая площадь квартиры (в кв.м)\n",
        "- `livesp` - жилая площадь квартиры (в кв.м)\n",
        "- `kitsp` - площадь кухни (в кв.м)\n",
        "- `dist` - расстояние от центра в км.\n",
        "- `metrdist` - расстояние до метро в минутах\n",
        "- `walk` - тип передвижения (1 – пешком от метро, 0 – на транспорте)\n",
        "- `brick` - тип строения здания (1 – кирпичный, монолит ж/б, 0 – другой)\n",
        "- `floor` - номер этажа (1 – этаж кроме первого и последнего, 0 – иначе)\n",
        "- `code` - число от 1 до 8, при помощи которого мы группируем наблюдения по территориальным подвыборкам (это и будут наши 8 классов данных, с которыми мы будем работать): \n",
        "1. Наблюдения сгруппированы на севере, вокруг Калужско-Рижской линии метрополитена \n",
        "2. Север, вокруг Серпуховско-Тимирязевской линии метрополитена \n",
        "3. Северо-запад, вокруг Замоскворецкой линии метрополитена \n",
        "4. Северо-запад, вокруг Таганско-Краснопресненской линии метрополитена \n",
        "5. Юго-восток, вокруг Люблинской линии метрополитена \n",
        "6. Юго-восток, вокруг Таганско-Краснопресненской линии метрополитена \n",
        "7. Восток, вокруг Калиниской линии метрополитена \n",
        "8. Восток, вокруг Арбатско-Покровской линии метрополитена\n",
        "\n",
        "Признаки `walk`, `brick`, `floor` и `code` - номинальные (категориальные), но представленные в числовом виде, остальные признаки (включая целевой признак `price`) - количественные (числовые).\n",
        "\n",
        "Требуется предсказать категориальный признак `code`, представленный в числовом виде с номером типа по остальным признакам. Это *задача классификации*."
      ]
    },
    {
      "cell_type": "markdown",
      "metadata": {
        "id": "SgQ3-7FQ1G_A",
        "colab_type": "text"
      },
      "source": [
        "Имена столбцов (признаков) можно получить таким образом:"
      ]
    },
    {
      "cell_type": "code",
      "metadata": {
        "id": "0qeM4y_91G_E",
        "colab_type": "code",
        "colab": {
          "base_uri": "https://localhost:8080/",
          "height": 69
        },
        "outputId": "0dc0b165-4566-44ec-e2c8-264668fbdfc1"
      },
      "source": [
        "data_raw.columns"
      ],
      "execution_count": 11,
      "outputs": [
        {
          "output_type": "execute_result",
          "data": {
            "text/plain": [
              "Index(['Unnamed: 0', 'price', 'totsp', 'livesp', 'kitsp', 'dist', 'metrdist',\n",
              "       'walk', 'brick', 'floor', 'code'],\n",
              "      dtype='object')"
            ]
          },
          "metadata": {
            "tags": []
          },
          "execution_count": 11
        }
      ]
    },
    {
      "cell_type": "markdown",
      "metadata": {
        "id": "koNwJqX_1G_S",
        "colab_type": "text"
      },
      "source": [
        "Имена строк (совпадают с номерами)"
      ]
    },
    {
      "cell_type": "code",
      "metadata": {
        "id": "nmKYriLD1G_T",
        "colab_type": "code",
        "colab": {
          "base_uri": "https://localhost:8080/",
          "height": 35
        },
        "outputId": "8048858d-e235-43c3-df0a-dd05a7d5fd5c"
      },
      "source": [
        "data_raw.index"
      ],
      "execution_count": 12,
      "outputs": [
        {
          "output_type": "execute_result",
          "data": {
            "text/plain": [
              "RangeIndex(start=0, stop=2040, step=1)"
            ]
          },
          "metadata": {
            "tags": []
          },
          "execution_count": 12
        }
      ]
    },
    {
      "cell_type": "markdown",
      "metadata": {
        "id": "fW3Mv1iV1HAd",
        "colab_type": "text"
      },
      "source": [
        "### Доступ к отдельным элементам и выделение подтаблиц (slice)\n",
        "\n",
        "  Cпособ доступа    |      Элемент  | Подтаблица\n",
        " ------------------ | ------------- | -----------\n",
        "  Доступ по имени   | `at`, `loc`   | `loc`\n",
        "  Доступ по номеру  | `iat`, `iloc` | `iloc`\n"
      ]
    }
  ]
}