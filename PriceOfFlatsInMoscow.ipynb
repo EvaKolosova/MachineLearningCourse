{
  "nbformat": 4,
  "nbformat_minor": 0,
  "metadata": {
    "colab": {
      "name": "PriceOfFlatsInMoscow.ipynb",
      "provenance": [],
      "collapsed_sections": [],
      "authorship_tag": "ABX9TyO4129pIXxMixmQvIntKi8B",
      "include_colab_link": true
    },
    "kernelspec": {
      "name": "python3",
      "display_name": "Python 3"
    }
  },
  "cells": [
    {
      "cell_type": "markdown",
      "metadata": {
        "id": "view-in-github",
        "colab_type": "text"
      },
      "source": [
        "<a href=\"https://colab.research.google.com/github/EvaKolosova/MachineLearningCourse/blob/master/PriceOfFlatsInMoscow.ipynb\" target=\"_parent\"><img src=\"https://colab.research.google.com/assets/colab-badge.svg\" alt=\"Open In Colab\"/></a>"
      ]
    },
    {
      "cell_type": "code",
      "metadata": {
        "id": "fwkpeYwc1G9U",
        "colab_type": "code",
        "colab": {}
      },
      "source": [
        "import numpy as np              # Массивы (матрицы, векторы, линейная алгебра)\n",
        "import matplotlib.pyplot as plt # Научная графика\n",
        "import pandas as pd             # Таблицы и временные ряды (dataframe, series)\n",
        "import seaborn as sns           # Еще больше красивой графики для визуализации данных\n",
        "import sklearn                  # Алгоритмы машинного обучения"
      ],
      "execution_count": 2,
      "outputs": []
    },
    {
      "cell_type": "markdown",
      "metadata": {
        "id": "W3OgaD0l1G9j",
        "colab_type": "text"
      },
      "source": [
        "# Оценка стоимости квартиры в Москве\n",
        "\n",
        "Предположим, что вы хотите продать квартиру и желаете узнать, по какой цене следует продавать, чтобы не продешевить. Или же из этой статистики можно узнать, по каким примерно ценам сечас продаются квартиры в разных районах Москвы.\n",
        "Загрузим данные о ценах на квартиры (данные собраны ВШЭ для спецкурса более 2х лет назад):"
      ]
    },
    {
      "cell_type": "code",
      "metadata": {
        "id": "vsBq08261G9o",
        "colab_type": "code",
        "colab": {}
      },
      "source": [
        "url = \"https://raw.githubusercontent.com/EvaKolosova/MachineLearningCourse/master/flats_moscow.csv\"\n",
        "data_raw = pd.read_csv(url)"
      ],
      "execution_count": 7,
      "outputs": []
    },
    {
      "cell_type": "markdown",
      "metadata": {
        "id": "DaaWPqHh1G9_",
        "colab_type": "text"
      },
      "source": [
        "Таблица содержит данные о ценах для 2040 квартир в г.Москве. Для каждой квартиры указаны ее цена (в 1000$), цена и некоторые переменные, такие как общая и жилая площадь, размер кухни, расстояние до центра (в км) и до метро (в минутах), также указан тип здания (1 – кирпичный, монолит ж/б, 0 – другой), этаж (1 – этаж кроме первого и последнего, 0 – иначе.) и др.\n",
        "\n",
        "Известно, что в датасете представлены 11 признаков и данные можно разделить на 8 классов по территориальному различию. Также известно, что отсутствуют пропущенные значения, и классы несбалансированы.\n",
        "\n",
        "Вначале посмотрим на размеры таблицы - количество строк (каждая строка соответствует одной квартире) и количество столбцов (каждый столбец соответствует конкретному признаку):"
      ]
    },
    {
      "cell_type": "code",
      "metadata": {
        "id": "01otrsg_1G-B",
        "colab_type": "code",
        "colab": {
          "base_uri": "https://localhost:8080/",
          "height": 35
        },
        "outputId": "7125838e-9e4d-4c29-cea1-befa4ea4fae0"
      },
      "source": [
        "data_raw.shape"
      ],
      "execution_count": 8,
      "outputs": [
        {
          "output_type": "execute_result",
          "data": {
            "text/plain": [
              "(2040, 11)"
            ]
          },
          "metadata": {
            "tags": []
          },
          "execution_count": 8
        }
      ]
    },
    {
      "cell_type": "markdown",
      "metadata": {
        "id": "lZruY90L1G-P",
        "colab_type": "text"
      },
      "source": [
        "Отсюда видно, что в дтасете есть 11 признаков.\n",
        "Метод `data_raw.head()` отображает первые строки (по умолчанию, 5 строк) таблицы"
      ]
    },
    {
      "cell_type": "code",
      "metadata": {
        "id": "4-Hnv2TK1G-R",
        "colab_type": "code",
        "colab": {
          "base_uri": "https://localhost:8080/",
          "height": 202
        },
        "outputId": "904fda5a-0765-45d9-ca7c-2ebe2b0ff8fd"
      },
      "source": [
        "data_raw.head()"
      ],
      "execution_count": 9,
      "outputs": [
        {
          "output_type": "execute_result",
          "data": {
            "text/html": [
              "<div>\n",
              "<style scoped>\n",
              "    .dataframe tbody tr th:only-of-type {\n",
              "        vertical-align: middle;\n",
              "    }\n",
              "\n",
              "    .dataframe tbody tr th {\n",
              "        vertical-align: top;\n",
              "    }\n",
              "\n",
              "    .dataframe thead th {\n",
              "        text-align: right;\n",
              "    }\n",
              "</style>\n",
              "<table border=\"1\" class=\"dataframe\">\n",
              "  <thead>\n",
              "    <tr style=\"text-align: right;\">\n",
              "      <th></th>\n",
              "      <th>Unnamed: 0</th>\n",
              "      <th>price</th>\n",
              "      <th>totsp</th>\n",
              "      <th>livesp</th>\n",
              "      <th>kitsp</th>\n",
              "      <th>dist</th>\n",
              "      <th>metrdist</th>\n",
              "      <th>walk</th>\n",
              "      <th>brick</th>\n",
              "      <th>floor</th>\n",
              "      <th>code</th>\n",
              "    </tr>\n",
              "  </thead>\n",
              "  <tbody>\n",
              "    <tr>\n",
              "      <th>0</th>\n",
              "      <td>1</td>\n",
              "      <td>81</td>\n",
              "      <td>58</td>\n",
              "      <td>40</td>\n",
              "      <td>6.0</td>\n",
              "      <td>12.5</td>\n",
              "      <td>7</td>\n",
              "      <td>1</td>\n",
              "      <td>1</td>\n",
              "      <td>1</td>\n",
              "      <td>3</td>\n",
              "    </tr>\n",
              "    <tr>\n",
              "      <th>1</th>\n",
              "      <td>2</td>\n",
              "      <td>75</td>\n",
              "      <td>44</td>\n",
              "      <td>28</td>\n",
              "      <td>6.0</td>\n",
              "      <td>13.5</td>\n",
              "      <td>7</td>\n",
              "      <td>1</td>\n",
              "      <td>0</td>\n",
              "      <td>1</td>\n",
              "      <td>6</td>\n",
              "    </tr>\n",
              "    <tr>\n",
              "      <th>2</th>\n",
              "      <td>3</td>\n",
              "      <td>128</td>\n",
              "      <td>70</td>\n",
              "      <td>42</td>\n",
              "      <td>6.0</td>\n",
              "      <td>14.5</td>\n",
              "      <td>3</td>\n",
              "      <td>1</td>\n",
              "      <td>1</td>\n",
              "      <td>1</td>\n",
              "      <td>3</td>\n",
              "    </tr>\n",
              "    <tr>\n",
              "      <th>3</th>\n",
              "      <td>4</td>\n",
              "      <td>95</td>\n",
              "      <td>61</td>\n",
              "      <td>37</td>\n",
              "      <td>6.0</td>\n",
              "      <td>13.5</td>\n",
              "      <td>7</td>\n",
              "      <td>1</td>\n",
              "      <td>0</td>\n",
              "      <td>1</td>\n",
              "      <td>1</td>\n",
              "    </tr>\n",
              "    <tr>\n",
              "      <th>4</th>\n",
              "      <td>5</td>\n",
              "      <td>330</td>\n",
              "      <td>104</td>\n",
              "      <td>60</td>\n",
              "      <td>11.0</td>\n",
              "      <td>10.5</td>\n",
              "      <td>7</td>\n",
              "      <td>0</td>\n",
              "      <td>1</td>\n",
              "      <td>1</td>\n",
              "      <td>3</td>\n",
              "    </tr>\n",
              "  </tbody>\n",
              "</table>\n",
              "</div>"
            ],
            "text/plain": [
              "   Unnamed: 0  price  totsp  livesp  kitsp  ...  metrdist  walk  brick  floor  code\n",
              "0           1     81     58      40    6.0  ...         7     1      1      1     3\n",
              "1           2     75     44      28    6.0  ...         7     1      0      1     6\n",
              "2           3    128     70      42    6.0  ...         3     1      1      1     3\n",
              "3           4     95     61      37    6.0  ...         7     1      0      1     1\n",
              "4           5    330    104      60   11.0  ...         7     0      1      1     3\n",
              "\n",
              "[5 rows x 11 columns]"
            ]
          },
          "metadata": {
            "tags": []
          },
          "execution_count": 9
        }
      ]
    },
    {
      "cell_type": "markdown",
      "metadata": {
        "id": "PdKDyvde1G-g",
        "colab_type": "text"
      },
      "source": [
        "А вот последние строки:"
      ]
    },
    {
      "cell_type": "code",
      "metadata": {
        "id": "dEL84-_k1G-i",
        "colab_type": "code",
        "colab": {
          "base_uri": "https://localhost:8080/",
          "height": 202
        },
        "outputId": "bce2d0db-e865-4b40-c03e-b113616c2024"
      },
      "source": [
        "data_raw.tail()"
      ],
      "execution_count": 10,
      "outputs": [
        {
          "output_type": "execute_result",
          "data": {
            "text/html": [
              "<div>\n",
              "<style scoped>\n",
              "    .dataframe tbody tr th:only-of-type {\n",
              "        vertical-align: middle;\n",
              "    }\n",
              "\n",
              "    .dataframe tbody tr th {\n",
              "        vertical-align: top;\n",
              "    }\n",
              "\n",
              "    .dataframe thead th {\n",
              "        text-align: right;\n",
              "    }\n",
              "</style>\n",
              "<table border=\"1\" class=\"dataframe\">\n",
              "  <thead>\n",
              "    <tr style=\"text-align: right;\">\n",
              "      <th></th>\n",
              "      <th>Unnamed: 0</th>\n",
              "      <th>price</th>\n",
              "      <th>totsp</th>\n",
              "      <th>livesp</th>\n",
              "      <th>kitsp</th>\n",
              "      <th>dist</th>\n",
              "      <th>metrdist</th>\n",
              "      <th>walk</th>\n",
              "      <th>brick</th>\n",
              "      <th>floor</th>\n",
              "      <th>code</th>\n",
              "    </tr>\n",
              "  </thead>\n",
              "  <tbody>\n",
              "    <tr>\n",
              "      <th>2035</th>\n",
              "      <td>2036</td>\n",
              "      <td>110</td>\n",
              "      <td>77</td>\n",
              "      <td>45</td>\n",
              "      <td>10.0</td>\n",
              "      <td>12.0</td>\n",
              "      <td>5</td>\n",
              "      <td>0</td>\n",
              "      <td>0</td>\n",
              "      <td>1</td>\n",
              "      <td>5</td>\n",
              "    </tr>\n",
              "    <tr>\n",
              "      <th>2036</th>\n",
              "      <td>2037</td>\n",
              "      <td>95</td>\n",
              "      <td>60</td>\n",
              "      <td>43</td>\n",
              "      <td>6.0</td>\n",
              "      <td>9.0</td>\n",
              "      <td>5</td>\n",
              "      <td>0</td>\n",
              "      <td>0</td>\n",
              "      <td>1</td>\n",
              "      <td>4</td>\n",
              "    </tr>\n",
              "    <tr>\n",
              "      <th>2037</th>\n",
              "      <td>2038</td>\n",
              "      <td>95</td>\n",
              "      <td>60</td>\n",
              "      <td>46</td>\n",
              "      <td>5.0</td>\n",
              "      <td>10.5</td>\n",
              "      <td>5</td>\n",
              "      <td>1</td>\n",
              "      <td>0</td>\n",
              "      <td>1</td>\n",
              "      <td>7</td>\n",
              "    </tr>\n",
              "    <tr>\n",
              "      <th>2038</th>\n",
              "      <td>2039</td>\n",
              "      <td>129</td>\n",
              "      <td>76</td>\n",
              "      <td>48</td>\n",
              "      <td>10.0</td>\n",
              "      <td>12.5</td>\n",
              "      <td>5</td>\n",
              "      <td>0</td>\n",
              "      <td>0</td>\n",
              "      <td>1</td>\n",
              "      <td>3</td>\n",
              "    </tr>\n",
              "    <tr>\n",
              "      <th>2039</th>\n",
              "      <td>2040</td>\n",
              "      <td>103</td>\n",
              "      <td>64</td>\n",
              "      <td>45</td>\n",
              "      <td>7.0</td>\n",
              "      <td>15.5</td>\n",
              "      <td>5</td>\n",
              "      <td>1</td>\n",
              "      <td>0</td>\n",
              "      <td>1</td>\n",
              "      <td>1</td>\n",
              "    </tr>\n",
              "  </tbody>\n",
              "</table>\n",
              "</div>"
            ],
            "text/plain": [
              "      Unnamed: 0  price  totsp  livesp  ...  walk  brick  floor  code\n",
              "2035        2036    110     77      45  ...     0      0      1     5\n",
              "2036        2037     95     60      43  ...     0      0      1     4\n",
              "2037        2038     95     60      46  ...     1      0      1     7\n",
              "2038        2039    129     76      48  ...     0      0      1     3\n",
              "2039        2040    103     64      45  ...     1      0      1     1\n",
              "\n",
              "[5 rows x 11 columns]"
            ]
          },
          "metadata": {
            "tags": []
          },
          "execution_count": 10
        }
      ]
    },
    {
      "cell_type": "markdown",
      "metadata": {
        "id": "cIanJMv21G-8",
        "colab_type": "text"
      },
      "source": [
        "Мы видим, что столбцы (признаки) имеют следующие имена:\n",
        "\n",
        "- `price` - цена (в тыс. долларов.)\n",
        "- `totalsp` - общая площадь квартиры (в кв.м)\n",
        "- `livesp` - жилая площадь квартиры (в кв.м)\n",
        "- `kitsp` - площадь кухни (в кв.м)\n",
        "- `dist` - расстояние от центра в км.\n",
        "- `metrdist` - расстояние до метро в минутах\n",
        "- `walk` - тип передвижения (1 – пешком от метро, 0 – на транспорте)\n",
        "- `brick` - тип строения здания (1 – кирпичный, монолит ж/б, 0 – другой)\n",
        "- `floor` - номер этажа (1 – этаж кроме первого и последнего, 0 – иначе)\n",
        "- `code` - число от 1 до 8, при помощи которого мы группируем наблюдения по территориальным подвыборкам (это и будут наши 8 классов данных, с которыми мы будем работать): \n",
        "1. Наблюдения сгруппированы на севере, вокруг Калужско-Рижской линии метрополитена \n",
        "2. Север, вокруг Серпуховско-Тимирязевской линии метрополитена \n",
        "3. Северо-запад, вокруг Замоскворецкой линии метрополитена \n",
        "4. Северо-запад, вокруг Таганско-Краснопресненской линии метрополитена \n",
        "5. Юго-восток, вокруг Люблинской линии метрополитена \n",
        "6. Юго-восток, вокруг Таганско-Краснопресненской линии метрополитена \n",
        "7. Восток, вокруг Калиниской линии метрополитена \n",
        "8. Восток, вокруг Арбатско-Покровской линии метрополитена\n",
        "\n",
        "Признаки `walk`, `brick`, `floor` и `code` - номинальные (категориальные), но представленные в числовом виде, остальные признаки (включая целевой признак `price`) - количественные (числовые).\n",
        "\n",
        "Требуется предсказать категориальный признак `code`, представленный в числовом виде с номером типа по остальным признакам. Это *задача классификации*."
      ]
    },
    {
      "cell_type": "markdown",
      "metadata": {
        "id": "SgQ3-7FQ1G_A",
        "colab_type": "text"
      },
      "source": [
        "Имена столбцов (признаков) можно получить таким образом:"
      ]
    },
    {
      "cell_type": "code",
      "metadata": {
        "id": "0qeM4y_91G_E",
        "colab_type": "code",
        "colab": {
          "base_uri": "https://localhost:8080/",
          "height": 69
        },
        "outputId": "0dc0b165-4566-44ec-e2c8-264668fbdfc1"
      },
      "source": [
        "data_raw.columns"
      ],
      "execution_count": 11,
      "outputs": [
        {
          "output_type": "execute_result",
          "data": {
            "text/plain": [
              "Index(['Unnamed: 0', 'price', 'totsp', 'livesp', 'kitsp', 'dist', 'metrdist',\n",
              "       'walk', 'brick', 'floor', 'code'],\n",
              "      dtype='object')"
            ]
          },
          "metadata": {
            "tags": []
          },
          "execution_count": 11
        }
      ]
    },
    {
      "cell_type": "markdown",
      "metadata": {
        "id": "koNwJqX_1G_S",
        "colab_type": "text"
      },
      "source": [
        "Имена строк (совпадают с номерами)"
      ]
    },
    {
      "cell_type": "code",
      "metadata": {
        "id": "nmKYriLD1G_T",
        "colab_type": "code",
        "colab": {
          "base_uri": "https://localhost:8080/",
          "height": 35
        },
        "outputId": "8048858d-e235-43c3-df0a-dd05a7d5fd5c"
      },
      "source": [
        "data_raw.index"
      ],
      "execution_count": 12,
      "outputs": [
        {
          "output_type": "execute_result",
          "data": {
            "text/plain": [
              "RangeIndex(start=0, stop=2040, step=1)"
            ]
          },
          "metadata": {
            "tags": []
          },
          "execution_count": 12
        }
      ]
    },
    {
      "cell_type": "markdown",
      "metadata": {
        "id": "fW3Mv1iV1HAd",
        "colab_type": "text"
      },
      "source": [
        "### Доступ к отдельным элементам и выделение подтаблиц (slice)\n",
        "\n",
        "  Cпособ доступа    |      Элемент  | Подтаблица\n",
        " ------------------ | ------------- | -----------\n",
        "  Доступ по имени   | `at`, `loc`   | `loc`\n",
        "  Доступ по номеру  | `iat`, `iloc` | `iloc`\n"
      ]
    },
    {
      "cell_type": "code",
      "metadata": {
        "id": "B71jnW-b1HAf",
        "colab_type": "code",
        "colab": {
          "base_uri": "https://localhost:8080/",
          "height": 35
        },
        "outputId": "bb24781b-9731-48cd-e368-877cbe9bdeb7"
      },
      "source": [
        "data_raw.at[2, 'price']"
      ],
      "execution_count": 14,
      "outputs": [
        {
          "output_type": "execute_result",
          "data": {
            "text/plain": [
              "128"
            ]
          },
          "metadata": {
            "tags": []
          },
          "execution_count": 14
        }
      ]
    },
    {
      "cell_type": "code",
      "metadata": {
        "id": "-rXgZ3S41HAp",
        "colab_type": "code",
        "colab": {
          "base_uri": "https://localhost:8080/",
          "height": 35
        },
        "outputId": "9f0513d5-691c-4e3e-bd90-a1424545af7f"
      },
      "source": [
        "data_raw.loc[2, 'price']"
      ],
      "execution_count": 15,
      "outputs": [
        {
          "output_type": "execute_result",
          "data": {
            "text/plain": [
              "128"
            ]
          },
          "metadata": {
            "tags": []
          },
          "execution_count": 15
        }
      ]
    },
    {
      "cell_type": "code",
      "metadata": {
        "id": "MZkI_2mw1HAy",
        "colab_type": "code",
        "colab": {
          "base_uri": "https://localhost:8080/",
          "height": 35
        },
        "outputId": "dfe59d3c-3a8d-448c-b47d-561cf2c5f89d"
      },
      "source": [
        "data_raw.iat[2, 1]"
      ],
      "execution_count": 18,
      "outputs": [
        {
          "output_type": "execute_result",
          "data": {
            "text/plain": [
              "128"
            ]
          },
          "metadata": {
            "tags": []
          },
          "execution_count": 18
        }
      ]
    },
    {
      "cell_type": "code",
      "metadata": {
        "id": "mm_PFY-w1HA6",
        "colab_type": "code",
        "colab": {
          "base_uri": "https://localhost:8080/",
          "height": 35
        },
        "outputId": "5e920fcf-ce2e-47ab-ff2e-102ead55d423"
      },
      "source": [
        "data_raw.iloc[2, 1]"
      ],
      "execution_count": 19,
      "outputs": [
        {
          "output_type": "execute_result",
          "data": {
            "text/plain": [
              "128"
            ]
          },
          "metadata": {
            "tags": []
          },
          "execution_count": 19
        }
      ]
    },
    {
      "cell_type": "markdown",
      "metadata": {
        "id": "k3fyJVh21HBL",
        "colab_type": "text"
      },
      "source": [
        "### Подтаблицы\n",
        "\n",
        "`loc` и `iloc` (но не `at` и `iat`) позволяют выделять не только отдельные элементы, но и подтаблицы (slice)"
      ]
    },
    {
      "cell_type": "code",
      "metadata": {
        "id": "3nr8DF071HBS",
        "colab_type": "code",
        "colab": {
          "base_uri": "https://localhost:8080/",
          "height": 141
        },
        "outputId": "3281a521-5fa8-451a-cca0-65bc3a40845d"
      },
      "source": [
        "data_raw.loc[[2,3,5], ['price', 'livesp', 'kitsp']]"
      ],
      "execution_count": 20,
      "outputs": [
        {
          "output_type": "execute_result",
          "data": {
            "text/html": [
              "<div>\n",
              "<style scoped>\n",
              "    .dataframe tbody tr th:only-of-type {\n",
              "        vertical-align: middle;\n",
              "    }\n",
              "\n",
              "    .dataframe tbody tr th {\n",
              "        vertical-align: top;\n",
              "    }\n",
              "\n",
              "    .dataframe thead th {\n",
              "        text-align: right;\n",
              "    }\n",
              "</style>\n",
              "<table border=\"1\" class=\"dataframe\">\n",
              "  <thead>\n",
              "    <tr style=\"text-align: right;\">\n",
              "      <th></th>\n",
              "      <th>price</th>\n",
              "      <th>livesp</th>\n",
              "      <th>kitsp</th>\n",
              "    </tr>\n",
              "  </thead>\n",
              "  <tbody>\n",
              "    <tr>\n",
              "      <th>2</th>\n",
              "      <td>128</td>\n",
              "      <td>42</td>\n",
              "      <td>6.0</td>\n",
              "    </tr>\n",
              "    <tr>\n",
              "      <th>3</th>\n",
              "      <td>95</td>\n",
              "      <td>37</td>\n",
              "      <td>6.0</td>\n",
              "    </tr>\n",
              "    <tr>\n",
              "      <th>5</th>\n",
              "      <td>137</td>\n",
              "      <td>50</td>\n",
              "      <td>9.0</td>\n",
              "    </tr>\n",
              "  </tbody>\n",
              "</table>\n",
              "</div>"
            ],
            "text/plain": [
              "   price  livesp  kitsp\n",
              "2    128      42    6.0\n",
              "3     95      37    6.0\n",
              "5    137      50    9.0"
            ]
          },
          "metadata": {
            "tags": []
          },
          "execution_count": 20
        }
      ]
    },
    {
      "cell_type": "code",
      "metadata": {
        "id": "haWOVPWJ1HBb",
        "colab_type": "code",
        "colab": {
          "base_uri": "https://localhost:8080/",
          "height": 141
        },
        "outputId": "648fc072-3aaf-4c87-8bc4-9bb1fdd6e495"
      },
      "source": [
        "data_raw.iloc[[2,3,5], [1,3,4]]"
      ],
      "execution_count": 21,
      "outputs": [
        {
          "output_type": "execute_result",
          "data": {
            "text/html": [
              "<div>\n",
              "<style scoped>\n",
              "    .dataframe tbody tr th:only-of-type {\n",
              "        vertical-align: middle;\n",
              "    }\n",
              "\n",
              "    .dataframe tbody tr th {\n",
              "        vertical-align: top;\n",
              "    }\n",
              "\n",
              "    .dataframe thead th {\n",
              "        text-align: right;\n",
              "    }\n",
              "</style>\n",
              "<table border=\"1\" class=\"dataframe\">\n",
              "  <thead>\n",
              "    <tr style=\"text-align: right;\">\n",
              "      <th></th>\n",
              "      <th>price</th>\n",
              "      <th>livesp</th>\n",
              "      <th>kitsp</th>\n",
              "    </tr>\n",
              "  </thead>\n",
              "  <tbody>\n",
              "    <tr>\n",
              "      <th>2</th>\n",
              "      <td>128</td>\n",
              "      <td>42</td>\n",
              "      <td>6.0</td>\n",
              "    </tr>\n",
              "    <tr>\n",
              "      <th>3</th>\n",
              "      <td>95</td>\n",
              "      <td>37</td>\n",
              "      <td>6.0</td>\n",
              "    </tr>\n",
              "    <tr>\n",
              "      <th>5</th>\n",
              "      <td>137</td>\n",
              "      <td>50</td>\n",
              "      <td>9.0</td>\n",
              "    </tr>\n",
              "  </tbody>\n",
              "</table>\n",
              "</div>"
            ],
            "text/plain": [
              "   price  livesp  kitsp\n",
              "2    128      42    6.0\n",
              "3     95      37    6.0\n",
              "5    137      50    9.0"
            ]
          },
          "metadata": {
            "tags": []
          },
          "execution_count": 21
        }
      ]
    },
    {
      "cell_type": "code",
      "metadata": {
        "id": "8QQhWcEs1HBi",
        "colab_type": "code",
        "colab": {
          "base_uri": "https://localhost:8080/",
          "height": 35
        },
        "outputId": "7207cb8f-f3b2-437f-97b2-e3e671055c05"
      },
      "source": [
        "data_raw.loc[[2,3,5], ['price', 'livesp', 'kitsp']].loc[5, 'kitsp']"
      ],
      "execution_count": 22,
      "outputs": [
        {
          "output_type": "execute_result",
          "data": {
            "text/plain": [
              "9.0"
            ]
          },
          "metadata": {
            "tags": []
          },
          "execution_count": 22
        }
      ]
    },
    {
      "cell_type": "markdown",
      "metadata": {
        "id": "Hg1PzW_l1HBp",
        "colab_type": "text"
      },
      "source": [
        "### Целые строки или столбцы:"
      ]
    },
    {
      "cell_type": "code",
      "metadata": {
        "id": "P2U41YQP1HBq",
        "colab_type": "code",
        "colab": {
          "base_uri": "https://localhost:8080/",
          "height": 415
        },
        "outputId": "47249c6d-679e-4852-c001-09af2cea321c"
      },
      "source": [
        "data_raw.loc[:, ['price', 'livesp']] "
      ],
      "execution_count": 24,
      "outputs": [
        {
          "output_type": "execute_result",
          "data": {
            "text/html": [
              "<div>\n",
              "<style scoped>\n",
              "    .dataframe tbody tr th:only-of-type {\n",
              "        vertical-align: middle;\n",
              "    }\n",
              "\n",
              "    .dataframe tbody tr th {\n",
              "        vertical-align: top;\n",
              "    }\n",
              "\n",
              "    .dataframe thead th {\n",
              "        text-align: right;\n",
              "    }\n",
              "</style>\n",
              "<table border=\"1\" class=\"dataframe\">\n",
              "  <thead>\n",
              "    <tr style=\"text-align: right;\">\n",
              "      <th></th>\n",
              "      <th>price</th>\n",
              "      <th>livesp</th>\n",
              "    </tr>\n",
              "  </thead>\n",
              "  <tbody>\n",
              "    <tr>\n",
              "      <th>0</th>\n",
              "      <td>81</td>\n",
              "      <td>40</td>\n",
              "    </tr>\n",
              "    <tr>\n",
              "      <th>1</th>\n",
              "      <td>75</td>\n",
              "      <td>28</td>\n",
              "    </tr>\n",
              "    <tr>\n",
              "      <th>2</th>\n",
              "      <td>128</td>\n",
              "      <td>42</td>\n",
              "    </tr>\n",
              "    <tr>\n",
              "      <th>3</th>\n",
              "      <td>95</td>\n",
              "      <td>37</td>\n",
              "    </tr>\n",
              "    <tr>\n",
              "      <th>4</th>\n",
              "      <td>330</td>\n",
              "      <td>60</td>\n",
              "    </tr>\n",
              "    <tr>\n",
              "      <th>...</th>\n",
              "      <td>...</td>\n",
              "      <td>...</td>\n",
              "    </tr>\n",
              "    <tr>\n",
              "      <th>2035</th>\n",
              "      <td>110</td>\n",
              "      <td>45</td>\n",
              "    </tr>\n",
              "    <tr>\n",
              "      <th>2036</th>\n",
              "      <td>95</td>\n",
              "      <td>43</td>\n",
              "    </tr>\n",
              "    <tr>\n",
              "      <th>2037</th>\n",
              "      <td>95</td>\n",
              "      <td>46</td>\n",
              "    </tr>\n",
              "    <tr>\n",
              "      <th>2038</th>\n",
              "      <td>129</td>\n",
              "      <td>48</td>\n",
              "    </tr>\n",
              "    <tr>\n",
              "      <th>2039</th>\n",
              "      <td>103</td>\n",
              "      <td>45</td>\n",
              "    </tr>\n",
              "  </tbody>\n",
              "</table>\n",
              "<p>2040 rows × 2 columns</p>\n",
              "</div>"
            ],
            "text/plain": [
              "      price  livesp\n",
              "0        81      40\n",
              "1        75      28\n",
              "2       128      42\n",
              "3        95      37\n",
              "4       330      60\n",
              "...     ...     ...\n",
              "2035    110      45\n",
              "2036     95      43\n",
              "2037     95      46\n",
              "2038    129      48\n",
              "2039    103      45\n",
              "\n",
              "[2040 rows x 2 columns]"
            ]
          },
          "metadata": {
            "tags": []
          },
          "execution_count": 24
        }
      ]
    },
    {
      "cell_type": "code",
      "metadata": {
        "id": "LYVW3xXV1HBw",
        "colab_type": "code",
        "colab": {
          "base_uri": "https://localhost:8080/",
          "height": 110
        },
        "outputId": "ee260c57-0f9d-4cfc-be95-1ae8880c5d9d"
      },
      "source": [
        "data_raw.loc[[2, 5], :] # или data_raw.loc[[2, 5], ] или data_raw.loc[[2, 5]]"
      ],
      "execution_count": 25,
      "outputs": [
        {
          "output_type": "execute_result",
          "data": {
            "text/html": [
              "<div>\n",
              "<style scoped>\n",
              "    .dataframe tbody tr th:only-of-type {\n",
              "        vertical-align: middle;\n",
              "    }\n",
              "\n",
              "    .dataframe tbody tr th {\n",
              "        vertical-align: top;\n",
              "    }\n",
              "\n",
              "    .dataframe thead th {\n",
              "        text-align: right;\n",
              "    }\n",
              "</style>\n",
              "<table border=\"1\" class=\"dataframe\">\n",
              "  <thead>\n",
              "    <tr style=\"text-align: right;\">\n",
              "      <th></th>\n",
              "      <th>Unnamed: 0</th>\n",
              "      <th>price</th>\n",
              "      <th>totsp</th>\n",
              "      <th>livesp</th>\n",
              "      <th>kitsp</th>\n",
              "      <th>dist</th>\n",
              "      <th>metrdist</th>\n",
              "      <th>walk</th>\n",
              "      <th>brick</th>\n",
              "      <th>floor</th>\n",
              "      <th>code</th>\n",
              "    </tr>\n",
              "  </thead>\n",
              "  <tbody>\n",
              "    <tr>\n",
              "      <th>2</th>\n",
              "      <td>3</td>\n",
              "      <td>128</td>\n",
              "      <td>70</td>\n",
              "      <td>42</td>\n",
              "      <td>6.0</td>\n",
              "      <td>14.5</td>\n",
              "      <td>3</td>\n",
              "      <td>1</td>\n",
              "      <td>1</td>\n",
              "      <td>1</td>\n",
              "      <td>3</td>\n",
              "    </tr>\n",
              "    <tr>\n",
              "      <th>5</th>\n",
              "      <td>6</td>\n",
              "      <td>137</td>\n",
              "      <td>76</td>\n",
              "      <td>50</td>\n",
              "      <td>9.0</td>\n",
              "      <td>11.0</td>\n",
              "      <td>7</td>\n",
              "      <td>1</td>\n",
              "      <td>1</td>\n",
              "      <td>1</td>\n",
              "      <td>8</td>\n",
              "    </tr>\n",
              "  </tbody>\n",
              "</table>\n",
              "</div>"
            ],
            "text/plain": [
              "   Unnamed: 0  price  totsp  livesp  kitsp  ...  metrdist  walk  brick  floor  code\n",
              "2           3    128     70      42    6.0  ...         3     1      1      1     3\n",
              "5           6    137     76      50    9.0  ...         7     1      1      1     8\n",
              "\n",
              "[2 rows x 11 columns]"
            ]
          },
          "metadata": {
            "tags": []
          },
          "execution_count": 25
        }
      ]
    },
    {
      "cell_type": "markdown",
      "metadata": {
        "id": "nS_PyFuw1HDK",
        "colab_type": "text"
      },
      "source": [
        "## 2. Боремся с выбросами (outliers)\n",
        "\n",
        "Понятно, что цена квартиры в первую очередь зависит от ее площади.\n",
        "Построим поэтому диаграмму рассеивания для двух признаков: `price` и `totalsp`.\n"
      ]
    },
    {
      "cell_type": "code",
      "metadata": {
        "id": "U346Y8Jt1HDL",
        "colab_type": "code",
        "colab": {
          "base_uri": "https://localhost:8080/",
          "height": 265
        },
        "outputId": "39b079ae-746f-4bf0-8aa6-357cdb1500f3"
      },
      "source": [
        "plt.scatter(data_raw['totsp'], data_raw['price'])\n",
        "pass"
      ],
      "execution_count": 28,
      "outputs": [
        {
          "output_type": "display_data",
          "data": {
            "image/png": "[encoded data removed]",
            "text/plain": [
              "<Figure size 432x288 with 1 Axes>"
            ]
          },
          "metadata": {
            "tags": [],
            "needs_background": "light"
          }
        }
      ]
    },
    {
      "cell_type": "markdown",
      "metadata": {
        "id": "UHxPdmeL1HDi",
        "colab_type": "text"
      },
      "source": [
        "Мы видим, что основная масса точек стремится к левому нижнему углу. Но в целом значения сгруппированно разбросаны по площади (ось абсцисс) от ~50 до 100 кв. м., при этом цены варьируются от примерно 50 до 200 тысяч долларов. Какие-то точки соответствуют квартирам с чрезмерно большими значениями цены или площади. Например, более $700$ тысяч долларов или с площадью более 200 кв. м.. Это *выбросы* (*outliers*) - объекты, значения признаков которых сильно отличаются от признаков основной массы объектов, сильно выпадающих из общей картины. Возможно, это ошибки в данных. В данном конкретном случае это скорее редкие данные, которые отличаются от остального множества данных, ведь рассмотрена лишь малая часть продающихся в Москве квартир. В любом случае выбросы, как правило, мешают построить хорошее решающее правило и их рекомендуется выбрасывать.\n",
        "\n",
        "Для обнаружения выбросов найдем, например, квантили для признаков `price` и `totsp`:"
      ]
    },
    {
      "cell_type": "code",
      "metadata": {
        "id": "AxF1cxgh1HDj",
        "colab_type": "code",
        "colab": {
          "base_uri": "https://localhost:8080/",
          "height": 191
        },
        "outputId": "ed76aa21-133f-4af5-fbc8-6419047391fb"
      },
      "source": [
        "data_raw['price'].quantile([0.005,.01,.05,.1,.5,.9,.95,.99,.995])"
      ],
      "execution_count": 29,
      "outputs": [
        {
          "output_type": "execute_result",
          "data": {
            "text/plain": [
              "0.005     72.000\n",
              "0.010     73.000\n",
              "0.050     80.000\n",
              "0.100     85.000\n",
              "0.500    115.000\n",
              "0.900    177.100\n",
              "0.950    210.000\n",
              "0.990    351.220\n",
              "0.995    419.025\n",
              "Name: price, dtype: float64"
            ]
          },
          "metadata": {
            "tags": []
          },
          "execution_count": 29
        }
      ]
    },
    {
      "cell_type": "markdown",
      "metadata": {
        "id": "40H8a1Yg1HDt",
        "colab_type": "text"
      },
      "source": [
        "Мы видим, например, что $99.9\\%$ всех значений признака `'price'` находится в диапазоне от $72$ до $419$ тысяч долларов. (это значения квантилей, соответствующих уровням $0.005$ и $0.995$ соотвтетственно)"
      ]
    },
    {
      "cell_type": "code",
      "metadata": {
        "id": "kHNsrjJI1HDu",
        "colab_type": "code",
        "colab": {
          "base_uri": "https://localhost:8080/",
          "height": 191
        },
        "outputId": "9689e414-cc12-4b3a-eacd-35fe5abd1cf0"
      },
      "source": [
        "data_raw['totsp'].quantile([0.005,.01,.05,.1,.5,.9,.95,.99,.995])"
      ],
      "execution_count": 30,
      "outputs": [
        {
          "output_type": "execute_result",
          "data": {
            "text/plain": [
              "0.005     50.000\n",
              "0.010     51.000\n",
              "0.050     55.000\n",
              "0.100     57.000\n",
              "0.500     73.500\n",
              "0.900     88.000\n",
              "0.950    101.000\n",
              "0.990    127.610\n",
              "0.995    135.805\n",
              "Name: totsp, dtype: float64"
            ]
          },
          "metadata": {
            "tags": []
          },
          "execution_count": 30
        }
      ]
    },
    {
      "cell_type": "markdown",
      "metadata": {
        "id": "lClZgzAZ1HDz",
        "colab_type": "text"
      },
      "source": [
        "$99.9\\%$ всех значений `'totsp'` находится в диапазоне от $50$ до $135$ кв. м. "
      ]
    },
    {
      "cell_type": "markdown",
      "metadata": {
        "id": "xAVPbGqW1HD0",
        "colab_type": "text"
      },
      "source": [
        "Удалим все строки таблицы, в которых `'price'` или `'totsp'` выходят за пределы квантилей $0.005$, $0.995$."
      ]
    },
    {
      "cell_type": "code",
      "metadata": {
        "id": "-j_qEuMU1HD1",
        "colab_type": "code",
        "colab": {
          "base_uri": "https://localhost:8080/",
          "height": 35
        },
        "outputId": "e9c02cf0-749e-4ea2-e611-da231dddadb7"
      },
      "source": [
        "rows_to_drop = data_raw[\n",
        "    (data_raw['price'] < data_raw['price'].quantile(0.005)) | (data_raw['price'] > data_raw['price'].quantile(0.995)) | \n",
        "    (data_raw['totsp']  < data_raw['totsp' ].quantile(0.005)) | (data_raw['totsp']  > data_raw['totsp' ].quantile(0.995))].index\n",
        "data = data_raw.drop(rows_to_drop)\n",
        "data.shape"
      ],
      "execution_count": 31,
      "outputs": [
        {
          "output_type": "execute_result",
          "data": {
            "text/plain": [
              "(2010, 11)"
            ]
          },
          "metadata": {
            "tags": []
          },
          "execution_count": 31
        }
      ]
    },
    {
      "cell_type": "markdown",
      "metadata": {
        "id": "gPACYI-KGJXA",
        "colab_type": "text"
      },
      "source": [
        " Таких значений оказалось ровно 30, так как изначально было 2040 строк данных, теперь же осталось 2010. Далее приведены индексы изьятых значений."
      ]
    },
    {
      "cell_type": "code",
      "metadata": {
        "id": "7pNHeSZM1HD6",
        "colab_type": "code",
        "colab": {
          "base_uri": "https://localhost:8080/",
          "height": 87
        },
        "outputId": "66cd2491-389e-4408-e767-22200a23c1ec"
      },
      "source": [
        "rows_to_drop"
      ],
      "execution_count": 32,
      "outputs": [
        {
          "output_type": "execute_result",
          "data": {
            "text/plain": [
              "Int64Index([   1,   25,   28,   35,  101,  138,  150,  174,  265,  377,  624,\n",
              "             769,  870,  885,  966, 1055, 1125, 1141, 1295, 1342, 1504, 1528,\n",
              "            1533, 1656, 1673, 1679, 1813, 1930, 1940, 1958],\n",
              "           dtype='int64')"
            ]
          },
          "metadata": {
            "tags": []
          },
          "execution_count": 32
        }
      ]
    },
    {
      "cell_type": "markdown",
      "metadata": {
        "id": "mvCm9h9h1HEA",
        "colab_type": "text"
      },
      "source": [
        "## 3. Визуализация и описательная статистика"
      ]
    },
    {
      "cell_type": "markdown",
      "metadata": {
        "id": "3ZSe7vY71HEC",
        "colab_type": "text"
      },
      "source": [
        "Визуализация и описательная статистика - важные этапы анализа данных.\n",
        "Сводную информацию о признаках можем получить, вызвав метод `describe`:"
      ]
    },
    {
      "cell_type": "code",
      "metadata": {
        "id": "NOM_RTUK1HED",
        "colab_type": "code",
        "colab": {
          "base_uri": "https://localhost:8080/",
          "height": 294
        },
        "outputId": "a4e58e0c-9f3a-4c62-f242-571a871fcec1"
      },
      "source": [
        "data.describe()"
      ],
      "execution_count": 33,
      "outputs": [
        {
          "output_type": "execute_result",
          "data": {
            "text/html": [
              "<div>\n",
              "<style scoped>\n",
              "    .dataframe tbody tr th:only-of-type {\n",
              "        vertical-align: middle;\n",
              "    }\n",
              "\n",
              "    .dataframe tbody tr th {\n",
              "        vertical-align: top;\n",
              "    }\n",
              "\n",
              "    .dataframe thead th {\n",
              "        text-align: right;\n",
              "    }\n",
              "</style>\n",
              "<table border=\"1\" class=\"dataframe\">\n",
              "  <thead>\n",
              "    <tr style=\"text-align: right;\">\n",
              "      <th></th>\n",
              "      <th>Unnamed: 0</th>\n",
              "      <th>price</th>\n",
              "      <th>totsp</th>\n",
              "      <th>livesp</th>\n",
              "      <th>kitsp</th>\n",
              "      <th>dist</th>\n",
              "      <th>metrdist</th>\n",
              "      <th>walk</th>\n",
              "      <th>brick</th>\n",
              "      <th>floor</th>\n",
              "      <th>code</th>\n",
              "    </tr>\n",
              "  </thead>\n",
              "  <tbody>\n",
              "    <tr>\n",
              "      <th>count</th>\n",
              "      <td>2010.000000</td>\n",
              "      <td>2010.000000</td>\n",
              "      <td>2010.000000</td>\n",
              "      <td>2010.000000</td>\n",
              "      <td>2010.000000</td>\n",
              "      <td>2010.000000</td>\n",
              "      <td>2010.000000</td>\n",
              "      <td>2010.000000</td>\n",
              "      <td>2010.000000</td>\n",
              "      <td>2010.000000</td>\n",
              "      <td>2010.000000</td>\n",
              "    </tr>\n",
              "    <tr>\n",
              "      <th>mean</th>\n",
              "      <td>1021.497512</td>\n",
              "      <td>125.483085</td>\n",
              "      <td>72.648259</td>\n",
              "      <td>46.111940</td>\n",
              "      <td>8.855721</td>\n",
              "      <td>11.022289</td>\n",
              "      <td>8.122886</td>\n",
              "      <td>0.685572</td>\n",
              "      <td>0.320896</td>\n",
              "      <td>0.791045</td>\n",
              "      <td>4.324876</td>\n",
              "    </tr>\n",
              "    <tr>\n",
              "      <th>std</th>\n",
              "      <td>587.634765</td>\n",
              "      <td>43.137203</td>\n",
              "      <td>13.698312</td>\n",
              "      <td>7.162406</td>\n",
              "      <td>2.701940</td>\n",
              "      <td>3.372787</td>\n",
              "      <td>3.813904</td>\n",
              "      <td>0.464403</td>\n",
              "      <td>0.466937</td>\n",
              "      <td>0.406664</td>\n",
              "      <td>2.187213</td>\n",
              "    </tr>\n",
              "    <tr>\n",
              "      <th>min</th>\n",
              "      <td>1.000000</td>\n",
              "      <td>72.000000</td>\n",
              "      <td>50.000000</td>\n",
              "      <td>30.000000</td>\n",
              "      <td>5.000000</td>\n",
              "      <td>3.000000</td>\n",
              "      <td>1.000000</td>\n",
              "      <td>0.000000</td>\n",
              "      <td>0.000000</td>\n",
              "      <td>0.000000</td>\n",
              "      <td>1.000000</td>\n",
              "    </tr>\n",
              "    <tr>\n",
              "      <th>25%</th>\n",
              "      <td>513.250000</td>\n",
              "      <td>95.000000</td>\n",
              "      <td>62.000000</td>\n",
              "      <td>42.000000</td>\n",
              "      <td>7.000000</td>\n",
              "      <td>9.000000</td>\n",
              "      <td>5.000000</td>\n",
              "      <td>0.000000</td>\n",
              "      <td>0.000000</td>\n",
              "      <td>1.000000</td>\n",
              "      <td>3.000000</td>\n",
              "    </tr>\n",
              "    <tr>\n",
              "      <th>50%</th>\n",
              "      <td>1020.500000</td>\n",
              "      <td>115.000000</td>\n",
              "      <td>73.000000</td>\n",
              "      <td>45.000000</td>\n",
              "      <td>9.000000</td>\n",
              "      <td>12.000000</td>\n",
              "      <td>7.000000</td>\n",
              "      <td>1.000000</td>\n",
              "      <td>0.000000</td>\n",
              "      <td>1.000000</td>\n",
              "      <td>4.000000</td>\n",
              "    </tr>\n",
              "    <tr>\n",
              "      <th>75%</th>\n",
              "      <td>1529.500000</td>\n",
              "      <td>140.000000</td>\n",
              "      <td>79.000000</td>\n",
              "      <td>49.000000</td>\n",
              "      <td>10.000000</td>\n",
              "      <td>13.500000</td>\n",
              "      <td>10.000000</td>\n",
              "      <td>1.000000</td>\n",
              "      <td>1.000000</td>\n",
              "      <td>1.000000</td>\n",
              "      <td>6.000000</td>\n",
              "    </tr>\n",
              "    <tr>\n",
              "      <th>max</th>\n",
              "      <td>2040.000000</td>\n",
              "      <td>410.000000</td>\n",
              "      <td>135.000000</td>\n",
              "      <td>85.000000</td>\n",
              "      <td>25.000000</td>\n",
              "      <td>17.000000</td>\n",
              "      <td>20.000000</td>\n",
              "      <td>1.000000</td>\n",
              "      <td>1.000000</td>\n",
              "      <td>1.000000</td>\n",
              "      <td>8.000000</td>\n",
              "    </tr>\n",
              "  </tbody>\n",
              "</table>\n",
              "</div>"
            ],
            "text/plain": [
              "        Unnamed: 0        price  ...        floor         code\n",
              "count  2010.000000  2010.000000  ...  2010.000000  2010.000000\n",
              "mean   1021.497512   125.483085  ...     0.791045     4.324876\n",
              "std     587.634765    43.137203  ...     0.406664     2.187213\n",
              "min       1.000000    72.000000  ...     0.000000     1.000000\n",
              "25%     513.250000    95.000000  ...     1.000000     3.000000\n",
              "50%    1020.500000   115.000000  ...     1.000000     4.000000\n",
              "75%    1529.500000   140.000000  ...     1.000000     6.000000\n",
              "max    2040.000000   410.000000  ...     1.000000     8.000000\n",
              "\n",
              "[8 rows x 11 columns]"
            ]
          },
          "metadata": {
            "tags": []
          },
          "execution_count": 33
        }
      ]
    },
    {
      "cell_type": "markdown",
      "metadata": {
        "id": "K4TC8RZc1HEK",
        "colab_type": "text"
      },
      "source": [
        "Для каждого количественного признака приведены средние значения, стандартное отклонение, минимальное и макимальное значения, медиана и значения квартилей.\n",
        "\n",
        "По умолчанию этот метод дает информацию только о количественных признаках."
      ]
    },
    {
      "cell_type": "markdown",
      "metadata": {
        "id": "Uu6L04Sh1HET",
        "colab_type": "text"
      },
      "source": [
        "Давайте снова построим диаграмму рассеивания для признаков `'totsp'`, `'price'`:"
      ]
    },
    {
      "cell_type": "code",
      "metadata": {
        "id": "YP_ZPn3I1HEZ",
        "colab_type": "code",
        "colab": {
          "base_uri": "https://localhost:8080/",
          "height": 265
        },
        "outputId": "63544823-d9db-42f4-88fa-fcdc45c7a0d0"
      },
      "source": [
        "plt.scatter(data['totsp'], data['price'], alpha=0.1)\n",
        "pass"
      ],
      "execution_count": 41,
      "outputs": [
        {
          "output_type": "display_data",
          "data": {
            "image/png": "[encoded data removed]",
            "text/plain": [
              "<Figure size 432x288 with 1 Axes>"
            ]
          },
          "metadata": {
            "tags": [],
            "needs_background": "light"
          }
        }
      ]
    },
    {
      "cell_type": "markdown",
      "metadata": {
        "id": "_mhLL7V91HEn",
        "colab_type": "text"
      },
      "source": [
        "Точки выстроились более-менее внутри конуса, носик которого находится в точке (0,0), а тело лежит на медиане первого квадранта координатной плоскости. Если сказать совсем грубо, то можно на этом графике заметить, что в некотором приближении зависимость стоимости квартиры от ее площади линейная.\n",
        "\n",
        "Отрисовка всех точек требует много времени. Тем более, точки накладываются друг на друга и сложно понять сколько точек на том или ином участке графика (особенно, если не использовать параметр `alpha`). Поэтому изобразим только $1000$ случайных точек, что будет в нашем случае составлять примерно половину от их общего числа:"
      ]
    },
    {
      "cell_type": "code",
      "metadata": {
        "id": "-ZaLD01D1HEp",
        "colab_type": "code",
        "colab": {
          "base_uri": "https://localhost:8080/",
          "height": 279
        },
        "outputId": "1bf08920-a1aa-433e-b97f-c42a6b4a3c21"
      },
      "source": [
        "np.random.seed(42)\n",
        "random_subset = np.random.choice(np.arange(data.shape[0]), size=1000, replace=False)\n",
        "plt.scatter(data.iloc[random_subset]['totsp'], data.iloc[random_subset]['price'], alpha=0.25)\n",
        "plt.xlabel('totsp')\n",
        "plt.ylabel('price')\n",
        "pass"
      ],
      "execution_count": 45,
      "outputs": [
        {
          "output_type": "display_data",
          "data": {
            "image/png": "[encoded data removed]",
            "text/plain": [
              "<Figure size 432x288 with 1 Axes>"
            ]
          },
          "metadata": {
            "tags": [],
            "needs_background": "light"
          }
        }
      ]
    },
    {
      "cell_type": "markdown",
      "metadata": {
        "id": "mSlnvQ9H1HEx",
        "colab_type": "text"
      },
      "source": [
        "Построим диаграмму рассеивания для признаков `'price'` и `'metrdist'`:"
      ]
    },
    {
      "cell_type": "code",
      "metadata": {
        "id": "rWvC-OfN1HE0",
        "colab_type": "code",
        "colab": {
          "base_uri": "https://localhost:8080/",
          "height": 279
        },
        "outputId": "6c72603f-f4e3-4aad-c4cb-9fe021cd11dc"
      },
      "source": [
        "plt.scatter(data.iloc[random_subset]['metrdist'], data.iloc[random_subset]['price'], alpha = 0.3)\n",
        "plt.xlabel('metrdist')\n",
        "plt.ylabel('price')\n",
        "pass"
      ],
      "execution_count": 55,
      "outputs": [
        {
          "output_type": "display_data",
          "data": {
            "image/png": "[encoded data removed]",
            "text/plain": [
              "<Figure size 432x288 with 1 Axes>"
            ]
          },
          "metadata": {
            "tags": [],
            "needs_background": "light"
          }
        }
      ]
    },
    {
      "cell_type": "markdown",
      "metadata": {
        "id": "QL81kCXV1HE4",
        "colab_type": "text"
      },
      "source": [
        "Из рисунка понятно, что, по-видимому, никакой зависимости между ценой и расстоянием до метро в Москве нет.\n",
        "Однако видно, что точки сгущаются у определенных значений расстояния до мтеро, таких как: 5, 7, 10 и 15 минут ходьбы."
      ]
    },
    {
      "cell_type": "markdown",
      "metadata": {
        "id": "zMwH7t-K1HE5",
        "colab_type": "text"
      },
      "source": [
        "Для отрисовки диаграммы рассеивания мы можем воспользоваться более продвинутой функцией `scatterplot` из модуля `seaborn`. Например, в следующей диаграмме цвет маркеров соответствует типу этажа в доме `'floor'`, а размер - по расстоянию в минутах до метро `'metrdist'`:"
      ]
    },
    {
      "cell_type": "code",
      "metadata": {
        "id": "i3mfWnyS1HE6",
        "colab_type": "code",
        "colab": {
          "base_uri": "https://localhost:8080/",
          "height": 497
        },
        "outputId": "02488ce2-2311-4f9b-9551-78aa0a978a56"
      },
      "source": [
        "plt.figure(figsize = (10, 8))\n",
        "sns.scatterplot(x='totsp', y='price', size='metrdist', hue='floor', data=data.iloc[random_subset], alpha=0.7)\n",
        "pass"
      ],
      "execution_count": 65,
      "outputs": [
        {
          "output_type": "display_data",
          "data": {
            "image/png": "[encoded data removed]",
            "text/plain": [
              "<Figure size 720x576 with 1 Axes>"
            ]
          },
          "metadata": {
            "tags": [],
            "needs_background": "light"
          }
        }
      ]
    }
  ]
}